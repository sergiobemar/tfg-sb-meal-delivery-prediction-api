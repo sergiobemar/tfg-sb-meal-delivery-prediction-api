{
 "cells": [
  {
   "cell_type": "code",
   "execution_count": 1,
   "metadata": {},
   "outputs": [],
   "source": [
    "import numpy as np\n",
    "import os\n",
    "import pandas as pd"
   ]
  },
  {
   "cell_type": "code",
   "execution_count": 2,
   "metadata": {},
   "outputs": [],
   "source": [
    "os.chdir('../')"
   ]
  },
  {
   "cell_type": "code",
   "execution_count": 3,
   "metadata": {},
   "outputs": [],
   "source": [
    "df_test = pd.read_csv('./data/processed/test.csv', sep = ';', decimal=',')"
   ]
  },
  {
   "cell_type": "code",
   "execution_count": 4,
   "metadata": {},
   "outputs": [],
   "source": [
    "center_id = 55\n",
    "meal_id = 1993\n",
    "\n",
    "condition1 = df_test['center_id'] == center_id\n",
    "condition2 = df_test['meal_id'] == meal_id"
   ]
  },
  {
   "cell_type": "code",
   "execution_count": 5,
   "metadata": {},
   "outputs": [],
   "source": [
    "df = df_test[condition1 & condition2]"
   ]
  },
  {
   "cell_type": "code",
   "execution_count": 6,
   "metadata": {},
   "outputs": [
    {
     "name": "stderr",
     "output_type": "stream",
     "text": [
      "/opt/conda/lib/python3.7/site-packages/pandas/core/generic.py:5159: SettingWithCopyWarning: \n",
      "A value is trying to be set on a copy of a slice from a DataFrame.\n",
      "Try using .loc[row_indexer,col_indexer] = value instead\n",
      "\n",
      "See the caveats in the documentation: https://pandas.pydata.org/pandas-docs/stable/user_guide/indexing.html#returning-a-view-versus-a-copy\n",
      "  self[name] = value\n"
     ]
    }
   ],
   "source": [
    "df.date = pd.date_range('2019-10-20', periods=len(df), freq='W')"
   ]
  },
  {
   "cell_type": "code",
   "execution_count": 7,
   "metadata": {},
   "outputs": [],
   "source": [
    "df = df.set_index('date')"
   ]
  },
  {
   "cell_type": "code",
   "execution_count": 30,
   "metadata": {},
   "outputs": [
    {
     "data": {
      "text/plain": [
       "DatetimeIndex(['2019-10-20', '2019-10-27', '2019-11-03', '2019-11-10',\n",
       "               '2019-11-17', '2019-11-24', '2019-12-01', '2019-12-08',\n",
       "               '2019-12-15', '2019-12-22'],\n",
       "              dtype='datetime64[ns]', name='date', freq=None)"
      ]
     },
     "execution_count": 30,
     "metadata": {},
     "output_type": "execute_result"
    }
   ],
   "source": [
    "df.index"
   ]
  },
  {
   "cell_type": "code",
   "execution_count": 8,
   "metadata": {},
   "outputs": [],
   "source": [
    "import datetime as dt"
   ]
  },
  {
   "cell_type": "code",
   "execution_count": 9,
   "metadata": {},
   "outputs": [
    {
     "name": "stdout",
     "output_type": "stream",
     "text": [
      "2019-10-20\n",
      "2019-10-27\n",
      "2019-11-03\n",
      "2019-11-10\n",
      "2019-11-17\n",
      "2019-11-24\n",
      "2019-12-01\n",
      "2019-12-08\n",
      "2019-12-15\n",
      "2019-12-22\n"
     ]
    }
   ],
   "source": [
    "for i, row in df.iterrows():\n",
    "\tindex_date = i.date()\n",
    "\tprint(index_date)"
   ]
  },
  {
   "cell_type": "code",
   "execution_count": 10,
   "metadata": {},
   "outputs": [
    {
     "name": "stdout",
     "output_type": "stream",
     "text": [
      "2019-10-20: 1127204\n",
      "2019-10-27: 1454285\n",
      "2019-11-03: 1230213\n",
      "2019-11-10: 1216199\n",
      "2019-11-17: 1338024\n",
      "2019-11-24: 1316220\n",
      "2019-12-01: 1261077\n",
      "2019-12-08: 1499021\n",
      "2019-12-15: 1384202\n",
      "2019-12-22: 1327954\n"
     ]
    }
   ],
   "source": [
    "for i, row in df.iterrows():\n",
    "\tindex_date = i.date()\n",
    "\tprint(str(index_date) + ': ' + str(row[0]))"
   ]
  },
  {
   "cell_type": "code",
   "execution_count": 11,
   "metadata": {},
   "outputs": [],
   "source": [
    "lista = [\"1127204\",\n",
    "\"1454285\",\n",
    "\"1230213\",\n",
    "\"1216199\",\n",
    "\"1338024\",\n",
    "\"1316220\",\n",
    "\"1261077\",\n",
    "\"1499021\",\n",
    "\"1384202\",\n",
    "\"1327954\"]"
   ]
  },
  {
   "cell_type": "code",
   "execution_count": 12,
   "metadata": {},
   "outputs": [
    {
     "data": {
      "text/plain": [
       "['1127204',\n",
       " '1454285',\n",
       " '1230213',\n",
       " '1216199',\n",
       " '1338024',\n",
       " '1316220',\n",
       " '1261077',\n",
       " '1499021',\n",
       " '1384202',\n",
       " '1327954']"
      ]
     },
     "execution_count": 12,
     "metadata": {},
     "output_type": "execute_result"
    }
   ],
   "source": [
    "lista"
   ]
  },
  {
   "cell_type": "code",
   "execution_count": 43,
   "metadata": {},
   "outputs": [],
   "source": [
    "df_result = pd.DataFrame({\"results\" : lista})"
   ]
  },
  {
   "cell_type": "code",
   "execution_count": 44,
   "metadata": {},
   "outputs": [],
   "source": [
    "df_result.index = df.index"
   ]
  },
  {
   "cell_type": "code",
   "execution_count": 45,
   "metadata": {},
   "outputs": [
    {
     "data": {
      "text/html": [
       "<div>\n",
       "<style scoped>\n",
       "    .dataframe tbody tr th:only-of-type {\n",
       "        vertical-align: middle;\n",
       "    }\n",
       "\n",
       "    .dataframe tbody tr th {\n",
       "        vertical-align: top;\n",
       "    }\n",
       "\n",
       "    .dataframe thead th {\n",
       "        text-align: right;\n",
       "    }\n",
       "</style>\n",
       "<table border=\"1\" class=\"dataframe\">\n",
       "  <thead>\n",
       "    <tr style=\"text-align: right;\">\n",
       "      <th></th>\n",
       "      <th>results</th>\n",
       "    </tr>\n",
       "    <tr>\n",
       "      <th>date</th>\n",
       "      <th></th>\n",
       "    </tr>\n",
       "  </thead>\n",
       "  <tbody>\n",
       "    <tr>\n",
       "      <th>2019-10-20</th>\n",
       "      <td>1127204</td>\n",
       "    </tr>\n",
       "    <tr>\n",
       "      <th>2019-10-27</th>\n",
       "      <td>1454285</td>\n",
       "    </tr>\n",
       "    <tr>\n",
       "      <th>2019-11-03</th>\n",
       "      <td>1230213</td>\n",
       "    </tr>\n",
       "    <tr>\n",
       "      <th>2019-11-10</th>\n",
       "      <td>1216199</td>\n",
       "    </tr>\n",
       "    <tr>\n",
       "      <th>2019-11-17</th>\n",
       "      <td>1338024</td>\n",
       "    </tr>\n",
       "    <tr>\n",
       "      <th>2019-11-24</th>\n",
       "      <td>1316220</td>\n",
       "    </tr>\n",
       "    <tr>\n",
       "      <th>2019-12-01</th>\n",
       "      <td>1261077</td>\n",
       "    </tr>\n",
       "    <tr>\n",
       "      <th>2019-12-08</th>\n",
       "      <td>1499021</td>\n",
       "    </tr>\n",
       "    <tr>\n",
       "      <th>2019-12-15</th>\n",
       "      <td>1384202</td>\n",
       "    </tr>\n",
       "    <tr>\n",
       "      <th>2019-12-22</th>\n",
       "      <td>1327954</td>\n",
       "    </tr>\n",
       "  </tbody>\n",
       "</table>\n",
       "</div>"
      ],
      "text/plain": [
       "            results\n",
       "date               \n",
       "2019-10-20  1127204\n",
       "2019-10-27  1454285\n",
       "2019-11-03  1230213\n",
       "2019-11-10  1216199\n",
       "2019-11-17  1338024\n",
       "2019-11-24  1316220\n",
       "2019-12-01  1261077\n",
       "2019-12-08  1499021\n",
       "2019-12-15  1384202\n",
       "2019-12-22  1327954"
      ]
     },
     "execution_count": 45,
     "metadata": {},
     "output_type": "execute_result"
    }
   ],
   "source": [
    "df_result"
   ]
  },
  {
   "cell_type": "code",
   "execution_count": 46,
   "metadata": {},
   "outputs": [],
   "source": [
    "df_result.reset_index(inplace=True)"
   ]
  },
  {
   "cell_type": "code",
   "execution_count": 47,
   "metadata": {},
   "outputs": [
    {
     "data": {
      "text/html": [
       "<div>\n",
       "<style scoped>\n",
       "    .dataframe tbody tr th:only-of-type {\n",
       "        vertical-align: middle;\n",
       "    }\n",
       "\n",
       "    .dataframe tbody tr th {\n",
       "        vertical-align: top;\n",
       "    }\n",
       "\n",
       "    .dataframe thead th {\n",
       "        text-align: right;\n",
       "    }\n",
       "</style>\n",
       "<table border=\"1\" class=\"dataframe\">\n",
       "  <thead>\n",
       "    <tr style=\"text-align: right;\">\n",
       "      <th></th>\n",
       "      <th>date</th>\n",
       "      <th>results</th>\n",
       "    </tr>\n",
       "  </thead>\n",
       "  <tbody>\n",
       "    <tr>\n",
       "      <th>0</th>\n",
       "      <td>2019-10-20</td>\n",
       "      <td>1127204</td>\n",
       "    </tr>\n",
       "    <tr>\n",
       "      <th>1</th>\n",
       "      <td>2019-10-27</td>\n",
       "      <td>1454285</td>\n",
       "    </tr>\n",
       "    <tr>\n",
       "      <th>2</th>\n",
       "      <td>2019-11-03</td>\n",
       "      <td>1230213</td>\n",
       "    </tr>\n",
       "    <tr>\n",
       "      <th>3</th>\n",
       "      <td>2019-11-10</td>\n",
       "      <td>1216199</td>\n",
       "    </tr>\n",
       "    <tr>\n",
       "      <th>4</th>\n",
       "      <td>2019-11-17</td>\n",
       "      <td>1338024</td>\n",
       "    </tr>\n",
       "    <tr>\n",
       "      <th>5</th>\n",
       "      <td>2019-11-24</td>\n",
       "      <td>1316220</td>\n",
       "    </tr>\n",
       "    <tr>\n",
       "      <th>6</th>\n",
       "      <td>2019-12-01</td>\n",
       "      <td>1261077</td>\n",
       "    </tr>\n",
       "    <tr>\n",
       "      <th>7</th>\n",
       "      <td>2019-12-08</td>\n",
       "      <td>1499021</td>\n",
       "    </tr>\n",
       "    <tr>\n",
       "      <th>8</th>\n",
       "      <td>2019-12-15</td>\n",
       "      <td>1384202</td>\n",
       "    </tr>\n",
       "    <tr>\n",
       "      <th>9</th>\n",
       "      <td>2019-12-22</td>\n",
       "      <td>1327954</td>\n",
       "    </tr>\n",
       "  </tbody>\n",
       "</table>\n",
       "</div>"
      ],
      "text/plain": [
       "        date  results\n",
       "0 2019-10-20  1127204\n",
       "1 2019-10-27  1454285\n",
       "2 2019-11-03  1230213\n",
       "3 2019-11-10  1216199\n",
       "4 2019-11-17  1338024\n",
       "5 2019-11-24  1316220\n",
       "6 2019-12-01  1261077\n",
       "7 2019-12-08  1499021\n",
       "8 2019-12-15  1384202\n",
       "9 2019-12-22  1327954"
      ]
     },
     "execution_count": 47,
     "metadata": {},
     "output_type": "execute_result"
    }
   ],
   "source": [
    "df_result"
   ]
  },
  {
   "cell_type": "code",
   "execution_count": 48,
   "metadata": {},
   "outputs": [],
   "source": [
    "test = df_result.to_json()"
   ]
  },
  {
   "cell_type": "code",
   "execution_count": 49,
   "metadata": {},
   "outputs": [
    {
     "data": {
      "text/plain": [
       "'{\"date\":{\"0\":1571529600000,\"1\":1572134400000,\"2\":1572739200000,\"3\":1573344000000,\"4\":1573948800000,\"5\":1574553600000,\"6\":1575158400000,\"7\":1575763200000,\"8\":1576368000000,\"9\":1576972800000},\"results\":{\"0\":\"1127204\",\"1\":\"1454285\",\"2\":\"1230213\",\"3\":\"1216199\",\"4\":\"1338024\",\"5\":\"1316220\",\"6\":\"1261077\",\"7\":\"1499021\",\"8\":\"1384202\",\"9\":\"1327954\"}}'"
      ]
     },
     "execution_count": 49,
     "metadata": {},
     "output_type": "execute_result"
    }
   ],
   "source": [
    "test"
   ]
  },
  {
   "cell_type": "code",
   "execution_count": 52,
   "metadata": {},
   "outputs": [
    {
     "name": "stdout",
     "output_type": "stream",
     "text": [
      "0\n",
      "1\n",
      "2\n",
      "3\n",
      "4\n",
      "5\n",
      "6\n",
      "7\n",
      "8\n",
      "9\n"
     ]
    }
   ],
   "source": [
    "for i in range(0, len(df.index)):\n",
    "\tprint(i)"
   ]
  },
  {
   "cell_type": "code",
   "execution_count": 53,
   "metadata": {},
   "outputs": [
    {
     "data": {
      "text/plain": [
       "['1127204',\n",
       " '1454285',\n",
       " '1230213',\n",
       " '1216199',\n",
       " '1338024',\n",
       " '1316220',\n",
       " '1261077',\n",
       " '1499021',\n",
       " '1384202',\n",
       " '1327954']"
      ]
     },
     "execution_count": 53,
     "metadata": {},
     "output_type": "execute_result"
    }
   ],
   "source": [
    "lista"
   ]
  },
  {
   "cell_type": "code",
   "execution_count": 56,
   "metadata": {},
   "outputs": [
    {
     "data": {
      "text/plain": [
       "'{\"date\":{\"0\":1571529600000,\"1\":1572134400000,\"2\":1572739200000,\"3\":1573344000000,\"4\":1573948800000,\"5\":1574553600000,\"6\":1575158400000,\"7\":1575763200000,\"8\":1576368000000,\"9\":1576972800000},\"results\":{\"0\":\"1127204\",\"1\":\"1454285\",\"2\":\"1230213\",\"3\":\"1216199\",\"4\":\"1338024\",\"5\":\"1316220\",\"6\":\"1261077\",\"7\":\"1499021\",\"8\":\"1384202\",\"9\":\"1327954\"}}'"
      ]
     },
     "execution_count": 56,
     "metadata": {},
     "output_type": "execute_result"
    }
   ],
   "source": [
    "df_result.to_json()"
   ]
  },
  {
   "cell_type": "code",
   "execution_count": null,
   "metadata": {},
   "outputs": [],
   "source": []
  }
 ],
 "metadata": {
  "environment": {
   "name": "common-cpu.m55",
   "type": "gcloud",
   "uri": "gcr.io/deeplearning-platform-release/base-cpu:m55"
  },
  "kernelspec": {
   "display_name": "Python 3",
   "language": "python",
   "name": "python3"
  },
  "language_info": {
   "codemirror_mode": {
    "name": "ipython",
    "version": 3
   },
   "file_extension": ".py",
   "mimetype": "text/x-python",
   "name": "python",
   "nbconvert_exporter": "python",
   "pygments_lexer": "ipython3",
   "version": "3.7.8"
  }
 },
 "nbformat": 4,
 "nbformat_minor": 4
}
