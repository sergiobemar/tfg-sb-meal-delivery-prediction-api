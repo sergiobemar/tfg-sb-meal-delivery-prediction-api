{
 "metadata": {
  "language_info": {
   "codemirror_mode": {
    "name": "ipython",
    "version": 3
   },
   "file_extension": ".py",
   "mimetype": "text/x-python",
   "name": "python",
   "nbconvert_exporter": "python",
   "pygments_lexer": "ipython3",
   "version": "3.6.8-final"
  },
  "orig_nbformat": 2,
  "kernelspec": {
   "name": "python3",
   "display_name": "Python 3",
   "language": "python"
  }
 },
 "nbformat": 4,
 "nbformat_minor": 2,
 "cells": [
  {
   "cell_type": "code",
   "execution_count": 2,
   "metadata": {},
   "outputs": [],
   "source": [
    "import json\n",
    "import os\n",
    "import pandas as pd"
   ]
  },
  {
   "cell_type": "code",
   "execution_count": 3,
   "metadata": {},
   "outputs": [],
   "source": [
    "os.chdir('../')"
   ]
  },
  {
   "source": [
    "## Connect to the server"
   ],
   "cell_type": "markdown",
   "metadata": {}
  },
  {
   "cell_type": "code",
   "execution_count": 4,
   "metadata": {},
   "outputs": [],
   "source": [
    "filename_credentials = 'clickhouse_credentials.json'"
   ]
  },
  {
   "cell_type": "code",
   "execution_count": 5,
   "metadata": {},
   "outputs": [],
   "source": [
    "with open(filename_credentials, 'r') as f:\n",
    "    config = json.load(f)"
   ]
  },
  {
   "cell_type": "code",
   "execution_count": 6,
   "metadata": {},
   "outputs": [
    {
     "output_type": "execute_result",
     "data": {
      "text/plain": [
       "{'host': '35.210.233.219',\n",
       " 'port': 9001,\n",
       " 'user': 'user1',\n",
       " 'password': 'hola1234',\n",
       " 'database': 'default'}"
      ]
     },
     "metadata": {},
     "execution_count": 6
    }
   ],
   "source": [
    "config"
   ]
  },
  {
   "cell_type": "code",
   "execution_count": 7,
   "metadata": {},
   "outputs": [],
   "source": [
    "from src.data.load_data import connect_clickhouse"
   ]
  },
  {
   "cell_type": "code",
   "execution_count": 8,
   "metadata": {},
   "outputs": [],
   "source": [
    "client = connect_clickhouse(config)"
   ]
  },
  {
   "cell_type": "code",
   "execution_count": 9,
   "metadata": {},
   "outputs": [
    {
     "output_type": "execute_result",
     "data": {
      "text/plain": [
       "[array(['test'], dtype=object), array(['test_pandas'], dtype=object)]"
      ]
     },
     "metadata": {},
     "execution_count": 9
    }
   ],
   "source": [
    "client.execute('SHOW TABLES')"
   ]
  },
  {
   "source": [
    "## Create a schema"
   ],
   "cell_type": "markdown",
   "metadata": {}
  },
  {
   "cell_type": "code",
   "execution_count": 10,
   "metadata": {},
   "outputs": [],
   "source": [
    "database = 'raw'"
   ]
  },
  {
   "cell_type": "code",
   "execution_count": 11,
   "metadata": {},
   "outputs": [
    {
     "output_type": "execute_result",
     "data": {
      "text/plain": [
       "[]"
      ]
     },
     "metadata": {},
     "execution_count": 11
    }
   ],
   "source": [
    "client.execute('CREATE DATABASE IF NOT EXISTS ' + database)"
   ]
  },
  {
   "source": [
    "client.execute('SHOW DATABASES')"
   ],
   "cell_type": "code",
   "metadata": {},
   "execution_count": 12,
   "outputs": [
    {
     "output_type": "execute_result",
     "data": {
      "text/plain": [
       "[array(['_temporary_and_external_tables'], dtype=object),\n",
       " array(['default'], dtype=object),\n",
       " array(['raw'], dtype=object),\n",
       " array(['system'], dtype=object)]"
      ]
     },
     "metadata": {},
     "execution_count": 12
    }
   ]
  },
  {
   "source": [
    "## Insert dataframe"
   ],
   "cell_type": "markdown",
   "metadata": {}
  },
  {
   "cell_type": "code",
   "execution_count": 13,
   "metadata": {},
   "outputs": [],
   "source": [
    "table_name = 'meal'\n",
    "file_path = '../api/data/raw/meal_info.csv'"
   ]
  },
  {
   "cell_type": "code",
   "execution_count": 14,
   "metadata": {},
   "outputs": [],
   "source": [
    "df_meal = pd.read_csv(file_path)"
   ]
  },
  {
   "cell_type": "code",
   "execution_count": 15,
   "metadata": {},
   "outputs": [
    {
     "output_type": "stream",
     "name": "stdout",
     "text": [
      "<class 'pandas.core.frame.DataFrame'>\nRangeIndex: 51 entries, 0 to 50\nData columns (total 3 columns):\n #   Column    Non-Null Count  Dtype \n---  ------    --------------  ----- \n 0   meal_id   51 non-null     int64 \n 1   category  51 non-null     object\n 2   cuisine   51 non-null     object\ndtypes: int64(1), object(2)\nmemory usage: 1.3+ KB\n"
     ]
    }
   ],
   "source": [
    "df_meal.info()"
   ]
  },
  {
   "cell_type": "code",
   "execution_count": 17,
   "metadata": {},
   "outputs": [
    {
     "output_type": "execute_result",
     "data": {
      "text/plain": [
       "[]"
      ]
     },
     "metadata": {},
     "execution_count": 17
    }
   ],
   "source": [
    "client.execute('DROP TABLE IF EXISTS default.test_pandas')"
   ]
  },
  {
   "cell_type": "code",
   "execution_count": 18,
   "metadata": {},
   "outputs": [
    {
     "output_type": "execute_result",
     "data": {
      "text/plain": [
       "[]"
      ]
     },
     "metadata": {},
     "execution_count": 18
    }
   ],
   "source": [
    "client.execute('''\n",
    "    CREATE TABLE IF NOT EXISTS default.test_pandas\n",
    "    (\n",
    "        meal_id Int64,\n",
    "        category String,\n",
    "        cuisine String\n",
    "    )\n",
    "    ENGINE = Memory\n",
    "''')"
   ]
  },
  {
   "cell_type": "code",
   "execution_count": 19,
   "metadata": {},
   "outputs": [
    {
     "output_type": "execute_result",
     "data": {
      "text/plain": [
       "51"
      ]
     },
     "metadata": {},
     "execution_count": 19
    }
   ],
   "source": [
    "client.insert_dataframe('INSERT INTO default.test_pandas VALUES', df_meal)"
   ]
  },
  {
   "cell_type": "code",
   "execution_count": 20,
   "metadata": {},
   "outputs": [
    {
     "output_type": "execute_result",
     "data": {
      "text/plain": [
       "    meal_id      category       cuisine\n",
       "0      1885     Beverages          Thai\n",
       "1      1993     Beverages          Thai\n",
       "2      2539     Beverages          Thai\n",
       "3      1248     Beverages        Indian\n",
       "4      2631     Beverages        Indian\n",
       "5      1311        Extras          Thai\n",
       "6      1062     Beverages       Italian\n",
       "7      1778     Beverages       Italian\n",
       "8      1803        Extras          Thai\n",
       "9      1198        Extras          Thai\n",
       "10     2707     Beverages       Italian\n",
       "11     1847          Soup          Thai\n",
       "12     1438          Soup          Thai\n",
       "13     2494          Soup          Thai\n",
       "14     2760  Other Snacks          Thai\n",
       "15     2490         Salad       Italian\n",
       "16     1109     Rice Bowl        Indian\n",
       "17     2290     Rice Bowl        Indian\n",
       "18     1525  Other Snacks          Thai\n",
       "19     2704  Other Snacks          Thai\n",
       "20     1878      Starters          Thai\n",
       "21     2640      Starters          Thai\n",
       "22     2577      Starters          Thai\n",
       "23     1754      Sandwich       Italian\n",
       "24     1971      Sandwich       Italian\n",
       "25     2306         Pasta       Italian\n",
       "26     2139     Beverages        Indian\n",
       "27     2826      Sandwich       Italian\n",
       "28     2664         Salad       Italian\n",
       "29     2569         Salad       Italian\n",
       "30     1230     Beverages   Continental\n",
       "31     1207     Beverages   Continental\n",
       "32     2322     Beverages   Continental\n",
       "33     2492        Desert        Indian\n",
       "34     1216         Pasta       Italian\n",
       "35     1727     Rice Bowl        Indian\n",
       "36     1902       Biryani        Indian\n",
       "37     1247       Biryani        Indian\n",
       "38     2304        Desert        Indian\n",
       "39     1543        Desert        Indian\n",
       "40     1770       Biryani        Indian\n",
       "41     2126         Pasta       Italian\n",
       "42     1558         Pizza   Continental\n",
       "43     2581         Pizza   Continental\n",
       "44     1962         Pizza   Continental\n",
       "45     1571          Fish   Continental\n",
       "46     2956          Fish   Continental\n",
       "47     2104          Fish   Continental\n",
       "48     2444       Seafood   Continental\n",
       "49     2867       Seafood   Continental\n",
       "50     1445       Seafood  Continentals"
      ],
      "text/html": "<div>\n<style scoped>\n    .dataframe tbody tr th:only-of-type {\n        vertical-align: middle;\n    }\n\n    .dataframe tbody tr th {\n        vertical-align: top;\n    }\n\n    .dataframe thead th {\n        text-align: right;\n    }\n</style>\n<table border=\"1\" class=\"dataframe\">\n  <thead>\n    <tr style=\"text-align: right;\">\n      <th></th>\n      <th>meal_id</th>\n      <th>category</th>\n      <th>cuisine</th>\n    </tr>\n  </thead>\n  <tbody>\n    <tr>\n      <th>0</th>\n      <td>1885</td>\n      <td>Beverages</td>\n      <td>Thai</td>\n    </tr>\n    <tr>\n      <th>1</th>\n      <td>1993</td>\n      <td>Beverages</td>\n      <td>Thai</td>\n    </tr>\n    <tr>\n      <th>2</th>\n      <td>2539</td>\n      <td>Beverages</td>\n      <td>Thai</td>\n    </tr>\n    <tr>\n      <th>3</th>\n      <td>1248</td>\n      <td>Beverages</td>\n      <td>Indian</td>\n    </tr>\n    <tr>\n      <th>4</th>\n      <td>2631</td>\n      <td>Beverages</td>\n      <td>Indian</td>\n    </tr>\n    <tr>\n      <th>5</th>\n      <td>1311</td>\n      <td>Extras</td>\n      <td>Thai</td>\n    </tr>\n    <tr>\n      <th>6</th>\n      <td>1062</td>\n      <td>Beverages</td>\n      <td>Italian</td>\n    </tr>\n    <tr>\n      <th>7</th>\n      <td>1778</td>\n      <td>Beverages</td>\n      <td>Italian</td>\n    </tr>\n    <tr>\n      <th>8</th>\n      <td>1803</td>\n      <td>Extras</td>\n      <td>Thai</td>\n    </tr>\n    <tr>\n      <th>9</th>\n      <td>1198</td>\n      <td>Extras</td>\n      <td>Thai</td>\n    </tr>\n    <tr>\n      <th>10</th>\n      <td>2707</td>\n      <td>Beverages</td>\n      <td>Italian</td>\n    </tr>\n    <tr>\n      <th>11</th>\n      <td>1847</td>\n      <td>Soup</td>\n      <td>Thai</td>\n    </tr>\n    <tr>\n      <th>12</th>\n      <td>1438</td>\n      <td>Soup</td>\n      <td>Thai</td>\n    </tr>\n    <tr>\n      <th>13</th>\n      <td>2494</td>\n      <td>Soup</td>\n      <td>Thai</td>\n    </tr>\n    <tr>\n      <th>14</th>\n      <td>2760</td>\n      <td>Other Snacks</td>\n      <td>Thai</td>\n    </tr>\n    <tr>\n      <th>15</th>\n      <td>2490</td>\n      <td>Salad</td>\n      <td>Italian</td>\n    </tr>\n    <tr>\n      <th>16</th>\n      <td>1109</td>\n      <td>Rice Bowl</td>\n      <td>Indian</td>\n    </tr>\n    <tr>\n      <th>17</th>\n      <td>2290</td>\n      <td>Rice Bowl</td>\n      <td>Indian</td>\n    </tr>\n    <tr>\n      <th>18</th>\n      <td>1525</td>\n      <td>Other Snacks</td>\n      <td>Thai</td>\n    </tr>\n    <tr>\n      <th>19</th>\n      <td>2704</td>\n      <td>Other Snacks</td>\n      <td>Thai</td>\n    </tr>\n    <tr>\n      <th>20</th>\n      <td>1878</td>\n      <td>Starters</td>\n      <td>Thai</td>\n    </tr>\n    <tr>\n      <th>21</th>\n      <td>2640</td>\n      <td>Starters</td>\n      <td>Thai</td>\n    </tr>\n    <tr>\n      <th>22</th>\n      <td>2577</td>\n      <td>Starters</td>\n      <td>Thai</td>\n    </tr>\n    <tr>\n      <th>23</th>\n      <td>1754</td>\n      <td>Sandwich</td>\n      <td>Italian</td>\n    </tr>\n    <tr>\n      <th>24</th>\n      <td>1971</td>\n      <td>Sandwich</td>\n      <td>Italian</td>\n    </tr>\n    <tr>\n      <th>25</th>\n      <td>2306</td>\n      <td>Pasta</td>\n      <td>Italian</td>\n    </tr>\n    <tr>\n      <th>26</th>\n      <td>2139</td>\n      <td>Beverages</td>\n      <td>Indian</td>\n    </tr>\n    <tr>\n      <th>27</th>\n      <td>2826</td>\n      <td>Sandwich</td>\n      <td>Italian</td>\n    </tr>\n    <tr>\n      <th>28</th>\n      <td>2664</td>\n      <td>Salad</td>\n      <td>Italian</td>\n    </tr>\n    <tr>\n      <th>29</th>\n      <td>2569</td>\n      <td>Salad</td>\n      <td>Italian</td>\n    </tr>\n    <tr>\n      <th>30</th>\n      <td>1230</td>\n      <td>Beverages</td>\n      <td>Continental</td>\n    </tr>\n    <tr>\n      <th>31</th>\n      <td>1207</td>\n      <td>Beverages</td>\n      <td>Continental</td>\n    </tr>\n    <tr>\n      <th>32</th>\n      <td>2322</td>\n      <td>Beverages</td>\n      <td>Continental</td>\n    </tr>\n    <tr>\n      <th>33</th>\n      <td>2492</td>\n      <td>Desert</td>\n      <td>Indian</td>\n    </tr>\n    <tr>\n      <th>34</th>\n      <td>1216</td>\n      <td>Pasta</td>\n      <td>Italian</td>\n    </tr>\n    <tr>\n      <th>35</th>\n      <td>1727</td>\n      <td>Rice Bowl</td>\n      <td>Indian</td>\n    </tr>\n    <tr>\n      <th>36</th>\n      <td>1902</td>\n      <td>Biryani</td>\n      <td>Indian</td>\n    </tr>\n    <tr>\n      <th>37</th>\n      <td>1247</td>\n      <td>Biryani</td>\n      <td>Indian</td>\n    </tr>\n    <tr>\n      <th>38</th>\n      <td>2304</td>\n      <td>Desert</td>\n      <td>Indian</td>\n    </tr>\n    <tr>\n      <th>39</th>\n      <td>1543</td>\n      <td>Desert</td>\n      <td>Indian</td>\n    </tr>\n    <tr>\n      <th>40</th>\n      <td>1770</td>\n      <td>Biryani</td>\n      <td>Indian</td>\n    </tr>\n    <tr>\n      <th>41</th>\n      <td>2126</td>\n      <td>Pasta</td>\n      <td>Italian</td>\n    </tr>\n    <tr>\n      <th>42</th>\n      <td>1558</td>\n      <td>Pizza</td>\n      <td>Continental</td>\n    </tr>\n    <tr>\n      <th>43</th>\n      <td>2581</td>\n      <td>Pizza</td>\n      <td>Continental</td>\n    </tr>\n    <tr>\n      <th>44</th>\n      <td>1962</td>\n      <td>Pizza</td>\n      <td>Continental</td>\n    </tr>\n    <tr>\n      <th>45</th>\n      <td>1571</td>\n      <td>Fish</td>\n      <td>Continental</td>\n    </tr>\n    <tr>\n      <th>46</th>\n      <td>2956</td>\n      <td>Fish</td>\n      <td>Continental</td>\n    </tr>\n    <tr>\n      <th>47</th>\n      <td>2104</td>\n      <td>Fish</td>\n      <td>Continental</td>\n    </tr>\n    <tr>\n      <th>48</th>\n      <td>2444</td>\n      <td>Seafood</td>\n      <td>Continental</td>\n    </tr>\n    <tr>\n      <th>49</th>\n      <td>2867</td>\n      <td>Seafood</td>\n      <td>Continental</td>\n    </tr>\n    <tr>\n      <th>50</th>\n      <td>1445</td>\n      <td>Seafood</td>\n      <td>Continentals</td>\n    </tr>\n  </tbody>\n</table>\n</div>"
     },
     "metadata": {},
     "execution_count": 20
    }
   ],
   "source": [
    "client.query_dataframe('SELECT * FROM default.test_pandas')"
   ]
  }
 ]
}