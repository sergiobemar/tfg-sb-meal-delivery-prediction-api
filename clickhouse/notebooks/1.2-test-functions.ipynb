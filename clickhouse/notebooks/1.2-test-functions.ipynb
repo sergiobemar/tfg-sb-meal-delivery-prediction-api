{
 "metadata": {
  "language_info": {
   "codemirror_mode": {
    "name": "ipython",
    "version": 3
   },
   "file_extension": ".py",
   "mimetype": "text/x-python",
   "name": "python",
   "nbconvert_exporter": "python",
   "pygments_lexer": "ipython3",
   "version": "3.6.8-final"
  },
  "orig_nbformat": 2,
  "kernelspec": {
   "name": "python3",
   "display_name": "Python 3",
   "language": "python"
  }
 },
 "nbformat": 4,
 "nbformat_minor": 2,
 "cells": [
  {
   "cell_type": "code",
   "execution_count": 1,
   "metadata": {},
   "outputs": [],
   "source": [
    "import json\n",
    "import os\n",
    "import pandas as pd"
   ]
  },
  {
   "cell_type": "code",
   "execution_count": 2,
   "metadata": {},
   "outputs": [],
   "source": [
    "os.chdir('../')"
   ]
  },
  {
   "source": [
    "## Connect to the server"
   ],
   "cell_type": "markdown",
   "metadata": {}
  },
  {
   "cell_type": "code",
   "execution_count": 3,
   "metadata": {},
   "outputs": [],
   "source": [
    "filename_credentials = 'clickhouse_credentials.json'"
   ]
  },
  {
   "cell_type": "code",
   "execution_count": 4,
   "metadata": {},
   "outputs": [],
   "source": [
    "with open(filename_credentials, 'r') as f:\n",
    "    config = json.load(f)"
   ]
  },
  {
   "cell_type": "code",
   "execution_count": 5,
   "metadata": {},
   "outputs": [
    {
     "output_type": "execute_result",
     "data": {
      "text/plain": [
       "{'host': '35.210.233.219',\n",
       " 'port': 9001,\n",
       " 'user': 'user1',\n",
       " 'password': 'hola1234',\n",
       " 'database': 'default'}"
      ]
     },
     "metadata": {},
     "execution_count": 5
    }
   ],
   "source": [
    "config"
   ]
  },
  {
   "cell_type": "code",
   "execution_count": 6,
   "metadata": {},
   "outputs": [],
   "source": [
    "from src.data.load_data import connect_clickhouse"
   ]
  },
  {
   "cell_type": "code",
   "execution_count": 7,
   "metadata": {},
   "outputs": [],
   "source": [
    "client = connect_clickhouse(config)"
   ]
  },
  {
   "cell_type": "code",
   "execution_count": 8,
   "metadata": {},
   "outputs": [
    {
     "output_type": "execute_result",
     "data": {
      "text/plain": [
       "[]"
      ]
     },
     "metadata": {},
     "execution_count": 8
    }
   ],
   "source": [
    "client.execute('SHOW TABLES')"
   ]
  },
  {
   "source": [
    "## Create a schema"
   ],
   "cell_type": "markdown",
   "metadata": {}
  },
  {
   "cell_type": "code",
   "execution_count": 9,
   "metadata": {},
   "outputs": [],
   "source": [
    "database = 'raw'"
   ]
  },
  {
   "cell_type": "code",
   "execution_count": 10,
   "metadata": {},
   "outputs": [
    {
     "output_type": "execute_result",
     "data": {
      "text/plain": [
       "[]"
      ]
     },
     "metadata": {},
     "execution_count": 10
    }
   ],
   "source": [
    "client.execute('CREATE DATABASE IF NOT EXISTS ' + database)"
   ]
  },
  {
   "source": [
    "client.execute('SHOW DATABASES')"
   ],
   "cell_type": "code",
   "metadata": {},
   "execution_count": 11,
   "outputs": [
    {
     "output_type": "execute_result",
     "data": {
      "text/plain": [
       "[('_temporary_and_external_tables',), ('default',), ('raw',), ('system',)]"
      ]
     },
     "metadata": {},
     "execution_count": 11
    }
   ]
  },
  {
   "source": [
    "## Load data"
   ],
   "cell_type": "markdown",
   "metadata": {}
  },
  {
   "cell_type": "code",
   "execution_count": 12,
   "metadata": {},
   "outputs": [],
   "source": [
    "schema = {\n",
    "    'meal_id' : int,\n",
    "    'category' : str,\n",
    "    'cuisine' : str\n",
    "}"
   ]
  },
  {
   "cell_type": "code",
   "execution_count": 13,
   "metadata": {},
   "outputs": [],
   "source": [
    "from src.data.load_data import load_table_from_csv"
   ]
  },
  {
   "cell_type": "code",
   "execution_count": 14,
   "metadata": {},
   "outputs": [],
   "source": [
    "table_name = 'meal'\n",
    "file_path = '../api/data/raw/meal_info.csv'"
   ]
  },
  {
   "cell_type": "code",
   "execution_count": 17,
   "metadata": {},
   "outputs": [
    {
     "output_type": "execute_result",
     "data": {
      "text/plain": [
       "[]"
      ]
     },
     "metadata": {},
     "execution_count": 17
    }
   ],
   "source": [
    "client.execute('''\n",
    "    CREATE TABLE IF NOT EXISTS ''' + database + '''. ''' + table_name + '''\n",
    "    (\n",
    "        meal_id Int32,\n",
    "        category String,\n",
    "        cuisine String\n",
    "    )\n",
    "    ENGINE = Log\n",
    "''')"
   ]
  },
  {
   "cell_type": "code",
   "execution_count": 16,
   "metadata": {},
   "outputs": [
    {
     "output_type": "execute_result",
     "data": {
      "text/plain": [
       "[('test',)]"
      ]
     },
     "metadata": {},
     "execution_count": 16
    }
   ],
   "source": [
    "client.execute('SHOW TABLES')"
   ]
  },
  {
   "cell_type": "code",
   "execution_count": 18,
   "metadata": {},
   "outputs": [],
   "source": [
    "load_table_from_csv(client, table_name, file_path, schema, database)"
   ]
  },
  {
   "cell_type": "code",
   "execution_count": null,
   "metadata": {},
   "outputs": [],
   "source": []
  },
  {
   "cell_type": "code",
   "execution_count": null,
   "metadata": {},
   "outputs": [],
   "source": []
  },
  {
   "cell_type": "code",
   "execution_count": 16,
   "metadata": {},
   "outputs": [],
   "source": [
    "data, columns = client.execute(\"SELECT * FROM test\", with_column_types=True)"
   ]
  },
  {
   "cell_type": "code",
   "execution_count": 18,
   "metadata": {},
   "outputs": [
    {
     "output_type": "execute_result",
     "data": {
      "text/plain": [
       "[('meal_id', 'Int32'), ('category', 'String'), ('cuisine', 'String')]"
      ]
     },
     "metadata": {},
     "execution_count": 18
    }
   ],
   "source": [
    "columns"
   ]
  },
  {
   "cell_type": "code",
   "execution_count": 20,
   "metadata": {},
   "outputs": [],
   "source": [
    "df = pd.DataFrame(data, columns = [i[0] for i in columns])"
   ]
  },
  {
   "cell_type": "code",
   "execution_count": 21,
   "metadata": {},
   "outputs": [
    {
     "output_type": "execute_result",
     "data": {
      "text/plain": [
       "   meal_id   category cuisine\n",
       "0     1885  Beverages    Thai\n",
       "1     1993  Beverages    Thai\n",
       "2     2539  Beverages    Thai\n",
       "3     1248  Beverages  Indian\n",
       "4     2631  Beverages  Indian"
      ],
      "text/html": "<div>\n<style scoped>\n    .dataframe tbody tr th:only-of-type {\n        vertical-align: middle;\n    }\n\n    .dataframe tbody tr th {\n        vertical-align: top;\n    }\n\n    .dataframe thead th {\n        text-align: right;\n    }\n</style>\n<table border=\"1\" class=\"dataframe\">\n  <thead>\n    <tr style=\"text-align: right;\">\n      <th></th>\n      <th>meal_id</th>\n      <th>category</th>\n      <th>cuisine</th>\n    </tr>\n  </thead>\n  <tbody>\n    <tr>\n      <th>0</th>\n      <td>1885</td>\n      <td>Beverages</td>\n      <td>Thai</td>\n    </tr>\n    <tr>\n      <th>1</th>\n      <td>1993</td>\n      <td>Beverages</td>\n      <td>Thai</td>\n    </tr>\n    <tr>\n      <th>2</th>\n      <td>2539</td>\n      <td>Beverages</td>\n      <td>Thai</td>\n    </tr>\n    <tr>\n      <th>3</th>\n      <td>1248</td>\n      <td>Beverages</td>\n      <td>Indian</td>\n    </tr>\n    <tr>\n      <th>4</th>\n      <td>2631</td>\n      <td>Beverages</td>\n      <td>Indian</td>\n    </tr>\n  </tbody>\n</table>\n</div>"
     },
     "metadata": {},
     "execution_count": 21
    }
   ],
   "source": [
    "df.head()"
   ]
  },
  {
   "cell_type": "code",
   "execution_count": 22,
   "metadata": {},
   "outputs": [
    {
     "output_type": "error",
     "ename": "ModuleNotFoundError",
     "evalue": "No module named 'clickhouse_driver.Client'",
     "traceback": [
      "\u001b[1;31m---------------------------------------------------------------------------\u001b[0m",
      "\u001b[1;31mModuleNotFoundError\u001b[0m                       Traceback (most recent call last)",
      "\u001b[1;32m<ipython-input-22-69bab1352fef>\u001b[0m in \u001b[0;36m<module>\u001b[1;34m\u001b[0m\n\u001b[1;32m----> 1\u001b[1;33m \u001b[1;32mfrom\u001b[0m \u001b[0mclickhouse_driver\u001b[0m\u001b[1;33m.\u001b[0m\u001b[0mClient\u001b[0m \u001b[1;32mimport\u001b[0m \u001b[0minsert_dataframe\u001b[0m\u001b[1;33m\u001b[0m\u001b[1;33m\u001b[0m\u001b[0m\n\u001b[0m",
      "\u001b[1;31mModuleNotFoundError\u001b[0m: No module named 'clickhouse_driver.Client'"
     ]
    }
   ],
   "source": [
    "Client.insert_dataframe"
   ]
  },
  {
   "cell_type": "code",
   "execution_count": 23,
   "metadata": {},
   "outputs": [
    {
     "output_type": "stream",
     "name": "stdout",
     "text": [
      "Requirement already up-to-date: clickhouse-driver in c:\\users\\smarti25\\appdata\\local\\continuum\\anaconda3\\lib\\site-packages (0.1.5)\nRequirement already satisfied, skipping upgrade: pytz in c:\\users\\smarti25\\appdata\\local\\continuum\\anaconda3\\lib\\site-packages (from clickhouse-driver) (2019.1)\nRequirement already satisfied, skipping upgrade: tzlocal in c:\\users\\smarti25\\appdata\\local\\continuum\\anaconda3\\lib\\site-packages (from clickhouse-driver) (2.1)\n"
     ]
    }
   ],
   "source": [
    "!pip install clickhouse-driver --upgrade"
   ]
  },
  {
   "cell_type": "code",
   "execution_count": 24,
   "metadata": {},
   "outputs": [
    {
     "output_type": "stream",
     "name": "stdout",
     "text": [
      "Requirement already satisfied: clickhouse-driver from git+https://github.com/mymarilyn/clickhouse-driver@master#egg=clickhouse-driver in c:\\users\\smarti25\\appdata\\local\\continuum\\anaconda3\\lib\\site-packages (0.1.5)\nRequirement already satisfied: tzlocal in c:\\users\\smarti25\\appdata\\local\\continuum\\anaconda3\\lib\\site-packages (from clickhouse-driver) (2.1)\nRequirement already satisfied: pytz in c:\\users\\smarti25\\appdata\\local\\continuum\\anaconda3\\lib\\site-packages (from clickhouse-driver) (2019.1)\n"
     ]
    }
   ],
   "source": [
    "!pip install git+https://github.com/mymarilyn/clickhouse-driver@master#egg=clickhouse-driver"
   ]
  },
  {
   "cell_type": "code",
   "execution_count": 31,
   "metadata": {},
   "outputs": [
    {
     "output_type": "execute_result",
     "data": {
      "text/plain": [
       "[('Beverages', 12),\n",
       " ('Pizza', 3),\n",
       " ('Desert', 3),\n",
       " ('Pasta', 3),\n",
       " ('Salad', 3),\n",
       " ('Extras', 3),\n",
       " ('Soup', 3),\n",
       " ('Starters', 3),\n",
       " ('Sandwich', 3),\n",
       " ('Seafood', 3),\n",
       " ('Fish', 3),\n",
       " ('Biryani', 3),\n",
       " ('Other Snacks', 3),\n",
       " ('Rice Bowl', 3)]"
      ]
     },
     "metadata": {},
     "execution_count": 31
    }
   ],
   "source": [
    "client.execute('SELECT category, COUNT(DISTINCT meal_id) AS nb_meals FROM test GROUP BY category ORDER BY nb_meals DESC')"
   ]
  },
  {
   "cell_type": "code",
   "execution_count": null,
   "metadata": {},
   "outputs": [],
   "source": []
  }
 ]
}