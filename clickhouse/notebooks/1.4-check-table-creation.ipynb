{
 "cells": [
  {
   "cell_type": "code",
   "execution_count": 1,
   "metadata": {},
   "outputs": [],
   "source": [
    "import json\n",
    "import os\n",
    "import pandas as pd\n",
    "import sys"
   ]
  },
  {
   "cell_type": "code",
   "execution_count": 2,
   "metadata": {},
   "outputs": [
    {
     "data": {
      "text/plain": [
       "'c:\\\\Users\\\\SMARTI25\\\\Dropbox\\\\TFG\\\\tfg-sb-meal-delivery-prediction-api\\\\clickhouse\\\\notebooks'"
      ]
     },
     "execution_count": 2,
     "metadata": {},
     "output_type": "execute_result"
    }
   ],
   "source": [
    "os.getcwd()"
   ]
  },
  {
   "cell_type": "code",
   "execution_count": 3,
   "metadata": {},
   "outputs": [],
   "source": [
    "os.chdir('../')"
   ]
  },
  {
   "cell_type": "code",
   "execution_count": 4,
   "metadata": {},
   "outputs": [
    {
     "data": {
      "text/plain": [
       "'c:\\\\Users\\\\SMARTI25\\\\Dropbox\\\\TFG\\\\tfg-sb-meal-delivery-prediction-api\\\\clickhouse'"
      ]
     },
     "execution_count": 4,
     "metadata": {},
     "output_type": "execute_result"
    }
   ],
   "source": [
    "os.getcwd()"
   ]
  },
  {
   "cell_type": "code",
   "execution_count": 5,
   "metadata": {},
   "outputs": [],
   "source": [
    "from src.data.load_data import connect_clickhouse"
   ]
  },
  {
   "cell_type": "code",
   "execution_count": 6,
   "metadata": {},
   "outputs": [],
   "source": [
    "# Get Clickhouse credentials and connect\n",
    "filename_credentials = 'clickhouse_credentials.json'\n",
    "with open(filename_credentials, 'r') as f:\n",
    "    credentials = json.load(f)\n",
    "\n",
    "client = connect_clickhouse(credentials)"
   ]
  },
  {
   "cell_type": "code",
   "execution_count": 7,
   "metadata": {},
   "outputs": [
    {
     "data": {
      "text/plain": [
       "[]"
      ]
     },
     "execution_count": 7,
     "metadata": {},
     "output_type": "execute_result"
    }
   ],
   "source": [
    "# Create raw schema if not exists\n",
    "database = 'raw'\n",
    "client.execute('DROP DATABASE IF EXISTS ' + database)\n",
    "client.execute('CREATE DATABASE IF NOT EXISTS ' + database)"
   ]
  },
  {
   "cell_type": "code",
   "execution_count": 8,
   "metadata": {},
   "outputs": [],
   "source": [
    "# Read initialize config file\n",
    "filename_init_config = 'initialize_config.json'\n",
    "with open(filename_init_config, 'r') as f:\n",
    "    config = json.load(f)"
   ]
  },
  {
   "cell_type": "code",
   "execution_count": 9,
   "metadata": {},
   "outputs": [
    {
     "data": {
      "text/plain": [
       "{'files': [{'table_name': 'meal',\n",
       "   'path': '../api/data/raw/meal_info.csv',\n",
       "   'schema': [{'name': 'meal_id', 'type': 'Int64'},\n",
       "    {'name': 'category', 'type': 'String'},\n",
       "    {'name': 'cuisine', 'type': 'String'}]},\n",
       "  {'table_name': 'center',\n",
       "   'path': '../api/data/raw/fulfilment_center_info.csv',\n",
       "   'schema': [{'name': 'center_id', 'type': 'Int64'},\n",
       "    {'name': 'city_code', 'type': 'Int32'},\n",
       "    {'name': 'region_code', 'type': 'Int32 '},\n",
       "    {'name': 'center_type', 'type': 'String'},\n",
       "    {'name': 'op_area', 'type': 'Float32'}]},\n",
       "  {'table_name': 'train',\n",
       "   'path': '../api/data/raw/train.csv',\n",
       "   'schema': [{'name': 'id', 'type': 'Int64'},\n",
       "    {'name': 'week', 'type': 'Int16'},\n",
       "    {'name': 'center_id', 'type': 'Int64'},\n",
       "    {'name': 'meal_id', 'type': 'Int64'},\n",
       "    {'name': 'checkout_price', 'type': 'Float32'},\n",
       "    {'name': 'base_price', 'type': 'Float32'},\n",
       "    {'name': 'emailer_for_promotion', 'type': 'Int8'},\n",
       "    {'name': 'homepage_featured', 'type': 'Int8'},\n",
       "    {'name': 'num_orders', 'type': 'Int32'}]},\n",
       "  {'table_name': 'test',\n",
       "   'path': '../api/data/raw/test.csv',\n",
       "   'schema': [{'name': 'id', 'type': 'Int64'},\n",
       "    {'name': 'week', 'type': 'Int16'},\n",
       "    {'name': 'center_id', 'type': 'Int64'},\n",
       "    {'name': 'meal_id', 'type': 'Int64'},\n",
       "    {'name': 'checkout_price', 'type': 'Float32'},\n",
       "    {'name': 'base_price', 'type': 'Float32'},\n",
       "    {'name': 'emailer_for_promotion', 'type': 'Int8'},\n",
       "    {'name': 'homepage_featured', 'type': 'Int8'}]}]}"
      ]
     },
     "execution_count": 9,
     "metadata": {},
     "output_type": "execute_result"
    }
   ],
   "source": [
    "config"
   ]
  },
  {
   "cell_type": "code",
   "execution_count": 12,
   "metadata": {},
   "outputs": [],
   "source": [
    "# Read and create the following tables in raw\n",
    "for t in config['files']:\n",
    "\n",
    "    # Create the table\n",
    "    ## First, get the schema and create a table using it in Clickhouse database\n",
    "    schema = list()\n",
    "\n",
    "    for s in t['schema']:\n",
    "        schema.append(s['name'] + ' ' + s['type'])\n",
    "\n",
    "    sentence = \"\"\"\n",
    "    CREATE TABLE IF NOT EXISTS \"\"\" + database + \"\"\".\"\"\" + t['table_name'] + \"\"\"\n",
    "    (\"\"\" + ', '.join(schema) + \"\"\")\n",
    "    ENGINE = Memory\n",
    "    \"\"\"\n",
    "\n",
    "    client.execute(sentence)\n",
    "\n",
    "    # Read csv and insert data into its table\n",
    "    df = pd.read_csv(t['path'])\n",
    "\n",
    "    sentence = 'INSERT INTO ' + database + '.' + t['table_name'] + ' VALUES'\n",
    "    client.insert_dataframe(sentence, df)"
   ]
  },
  {
   "cell_type": "code",
   "execution_count": null,
   "metadata": {},
   "outputs": [],
   "source": []
  }
 ],
 "metadata": {
  "kernelspec": {
   "display_name": "Python 3",
   "language": "python",
   "name": "python3"
  },
  "language_info": {
   "codemirror_mode": {
    "name": "ipython",
    "version": 3
   },
   "file_extension": ".py",
   "mimetype": "text/x-python",
   "name": "python",
   "nbconvert_exporter": "python",
   "pygments_lexer": "ipython3",
   "version": "3.6.8"
  }
 },
 "nbformat": 4,
 "nbformat_minor": 4
}
