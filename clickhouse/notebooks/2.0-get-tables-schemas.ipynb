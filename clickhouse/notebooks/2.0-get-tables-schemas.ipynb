{
 "metadata": {
  "language_info": {
   "codemirror_mode": {
    "name": "ipython",
    "version": 3
   },
   "file_extension": ".py",
   "mimetype": "text/x-python",
   "name": "python",
   "nbconvert_exporter": "python",
   "pygments_lexer": "ipython3",
   "version": "3.6.8-final"
  },
  "orig_nbformat": 2,
  "kernelspec": {
   "name": "python3",
   "display_name": "Python 3",
   "language": "python"
  }
 },
 "nbformat": 4,
 "nbformat_minor": 2,
 "cells": [
  {
   "cell_type": "code",
   "execution_count": 1,
   "metadata": {},
   "outputs": [],
   "source": [
    "import json\n",
    "import os\n",
    "import pandas as pd"
   ]
  },
  {
   "cell_type": "code",
   "execution_count": 2,
   "metadata": {},
   "outputs": [],
   "source": [
    "os.chdir('../')"
   ]
  },
  {
   "cell_type": "code",
   "execution_count": 3,
   "metadata": {},
   "outputs": [],
   "source": [
    "from src.data.ClickhouseClient import ClickhouseClient"
   ]
  },
  {
   "cell_type": "code",
   "execution_count": 4,
   "metadata": {},
   "outputs": [],
   "source": [
    "# Get Clickhouse credentials and connect\n",
    "filename_credentials = '../.credentials/clickhouse_credentials.json'\n",
    "with open(filename_credentials, 'r') as f:\n",
    "    credentials = json.load(f)"
   ]
  },
  {
   "cell_type": "code",
   "execution_count": 7,
   "metadata": {},
   "outputs": [
    {
     "output_type": "stream",
     "name": "stdout",
     "text": [
      "ClickhouseClient.py: connection to 35.210.170.130 done\n"
     ]
    }
   ],
   "source": [
    "client = ClickhouseClient(\n",
    "    host = credentials['host'],\n",
    "    port = credentials['port'],\n",
    "    user = credentials['user'],\n",
    "    password = credentials['password'],\n",
    "    database = credentials['database']\n",
    ")"
   ]
  },
  {
   "cell_type": "code",
   "execution_count": 8,
   "metadata": {},
   "outputs": [
    {
     "output_type": "stream",
     "name": "stdout",
     "text": [
      "ClickhouseClient.py: database raw created\nClickhouseClient.py: database raw created\n"
     ]
    }
   ],
   "source": [
    "# Drop raw schema if not exists, and then it's created again\n",
    "database = 'raw'\n",
    "client.drop_database(database)\n",
    "client.create_database(database)"
   ]
  },
  {
   "cell_type": "code",
   "execution_count": 10,
   "metadata": {},
   "outputs": [],
   "source": [
    "# Read initialize config file\n",
    "filename_init_config = './clickhouse_config.json'\n",
    "with open(filename_init_config, 'r') as f:\n",
    "    config = json.load(f)"
   ]
  },
  {
   "cell_type": "code",
   "execution_count": 13,
   "metadata": {},
   "outputs": [
    {
     "output_type": "stream",
     "name": "stdout",
     "text": [
      "CREATE TABLE IF NOT EXISTS raw.meal (meal_id Int64, category String, cuisine String) ENGINE = Memory\nCREATE TABLE IF NOT EXISTS raw.center (center_id Int64, city_code Int32, region_code Int32 , center_type String, op_area Float32) ENGINE = Memory\nCREATE TABLE IF NOT EXISTS raw.train (id Int64, week Int16, center_id Int64, meal_id Int64, checkout_price Float32, base_price Float32, emailer_for_promotion Int8, homepage_featured Int8, num_orders Int32) ENGINE = Memory\nCREATE TABLE IF NOT EXISTS raw.test (id Int64, week Int16, center_id Int64, meal_id Int64, checkout_price Float32, base_price Float32, emailer_for_promotion Int8, homepage_featured Int8) ENGINE = Memory\n"
     ]
    }
   ],
   "source": [
    "# Read and create the following tables in raw\n",
    "for t in config['files']:\n",
    "    # Build create sentence\n",
    "    sentence_first = \"CREATE TABLE\"\n",
    "\n",
    "    ## Check exists flag\n",
    "    sentence_if = \" IF NOT EXISTS \"\n",
    "\n",
    "    ## Get fields and format the sentence\n",
    "    list_fields = list()\n",
    "    for s in t['schema']:\n",
    "        list_fields.append(s['name'] + ' ' + s['type'])\n",
    "\n",
    "    ## Whole sentence\n",
    "    sentence = sentence_first + sentence_if + database + '.' + t['table_name'] + ' (' + ', '.join(list_fields) + ') ENGINE = Memory'\n",
    "\n",
    "    print(sentence)"
   ]
  },
  {
   "cell_type": "code",
   "execution_count": null,
   "metadata": {},
   "outputs": [],
   "source": []
  }
 ]
}