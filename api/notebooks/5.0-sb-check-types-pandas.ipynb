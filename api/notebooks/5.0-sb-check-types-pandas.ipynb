{
 "metadata": {
  "language_info": {
   "codemirror_mode": {
    "name": "ipython",
    "version": 3
   },
   "file_extension": ".py",
   "mimetype": "text/x-python",
   "name": "python",
   "nbconvert_exporter": "python",
   "pygments_lexer": "ipython3",
   "version": "3.6.8-final"
  },
  "orig_nbformat": 2,
  "kernelspec": {
   "name": "python3",
   "display_name": "Python 3",
   "language": "python"
  }
 },
 "nbformat": 4,
 "nbformat_minor": 2,
 "cells": [
  {
   "cell_type": "code",
   "execution_count": 1,
   "metadata": {},
   "outputs": [],
   "source": [
    "import pandas as pd"
   ]
  },
  {
   "cell_type": "code",
   "execution_count": 2,
   "metadata": {},
   "outputs": [],
   "source": [
    "import os"
   ]
  },
  {
   "cell_type": "code",
   "execution_count": 3,
   "metadata": {},
   "outputs": [
    {
     "output_type": "execute_result",
     "data": {
      "text/plain": [
       "'c:\\\\Users\\\\SMARTI25\\\\Dropbox\\\\TFG\\\\tfg-sb-meal-delivery-prediction-api\\\\api\\\\notebooks'"
      ]
     },
     "metadata": {},
     "execution_count": 3
    }
   ],
   "source": [
    "os.getcwd()"
   ]
  },
  {
   "cell_type": "code",
   "execution_count": 4,
   "metadata": {},
   "outputs": [],
   "source": [
    "os.chdir('../')"
   ]
  },
  {
   "cell_type": "code",
   "execution_count": 5,
   "metadata": {},
   "outputs": [],
   "source": [
    "df = pd.read_csv('./data/raw/fulfilment_center_info.csv')"
   ]
  },
  {
   "cell_type": "code",
   "execution_count": 14,
   "metadata": {},
   "outputs": [],
   "source": [
    "schema = {\n",
    "    'center_id' : str,\n",
    "    'city_code' : str,\n",
    "    'region_code' : str,\n",
    "    'center_type' : str,\n",
    "    'op_area' : str\n",
    "}"
   ]
  },
  {
   "cell_type": "code",
   "execution_count": 15,
   "metadata": {},
   "outputs": [
    {
     "output_type": "execute_result",
     "data": {
      "text/plain": [
       "{'center_id': str,\n",
       " 'city_code': str,\n",
       " 'region_code': str,\n",
       " 'center_type': str,\n",
       " 'op_area': str}"
      ]
     },
     "metadata": {},
     "execution_count": 15
    }
   ],
   "source": [
    "schema"
   ]
  },
  {
   "cell_type": "code",
   "execution_count": 16,
   "metadata": {},
   "outputs": [
    {
     "output_type": "execute_result",
     "data": {
      "text/plain": [
       "center_id        int32\n",
       "city_code        int32\n",
       "region_code      int32\n",
       "center_type     object\n",
       "op_area        float64\n",
       "dtype: object"
      ]
     },
     "metadata": {},
     "execution_count": 16
    }
   ],
   "source": [
    "df.dtypes"
   ]
  },
  {
   "cell_type": "code",
   "execution_count": 17,
   "metadata": {},
   "outputs": [],
   "source": [
    "df = df.astype(schema)"
   ]
  },
  {
   "cell_type": "code",
   "execution_count": 18,
   "metadata": {},
   "outputs": [
    {
     "output_type": "execute_result",
     "data": {
      "text/plain": [
       "center_id      object\n",
       "city_code      object\n",
       "region_code    object\n",
       "center_type    object\n",
       "op_area        object\n",
       "dtype: object"
      ]
     },
     "metadata": {},
     "execution_count": 18
    }
   ],
   "source": [
    "df.dtypes"
   ]
  },
  {
   "cell_type": "code",
   "execution_count": 19,
   "metadata": {},
   "outputs": [],
   "source": [
    "from src.schema import schema"
   ]
  },
  {
   "cell_type": "code",
   "execution_count": 25,
   "metadata": {},
   "outputs": [
    {
     "output_type": "execute_result",
     "data": {
      "text/plain": [
       "mappingproxy({'__config__': src.schema.schema.Config,\n",
       "              '__fields__': {'center_id': ModelField(name='center_id', type=int, required=True),\n",
       "               'city_code': ModelField(name='city_code', type=int, required=True),\n",
       "               'region_code': ModelField(name='region_code', type=int, required=True),\n",
       "               'center_type': ModelField(name='center_type', type=str, required=True),\n",
       "               'op_area': ModelField(name='op_area', type=float, required=True)},\n",
       "              '__field_defaults__': {},\n",
       "              '__validators__': {},\n",
       "              '__pre_root_validators__': [],\n",
       "              '__post_root_validators__': [],\n",
       "              '__schema_cache__': {},\n",
       "              '__json_encoder__': <staticmethod at 0x210f963d6d8>,\n",
       "              '__custom_root_type__': False,\n",
       "              '__module__': 'src.schema.schema',\n",
       "              '__annotations__': {'center_id': int,\n",
       "               'city_code': int,\n",
       "               'region_code': int,\n",
       "               'center_type': str,\n",
       "               'op_area': float},\n",
       "              '__weakref__': <attribute '__weakref__' of 'Center' objects>,\n",
       "              '__doc__': None,\n",
       "              '__abstractmethods__': frozenset(),\n",
       "              '_abc_registry': <_weakrefset.WeakSet at 0x210f963d588>,\n",
       "              '_abc_cache': <_weakrefset.WeakSet at 0x210f963d208>,\n",
       "              '_abc_negative_cache': <_weakrefset.WeakSet at 0x210f963d5c0>,\n",
       "              '_abc_negative_cache_version': 50,\n",
       "              '__signature__': <pydantic.utils.ClassAttribute at 0x210f963d6a0>})"
      ]
     },
     "metadata": {},
     "execution_count": 25
    }
   ],
   "source": [
    "schema.Center.__dict__"
   ]
  },
  {
   "cell_type": "code",
   "execution_count": null,
   "metadata": {},
   "outputs": [],
   "source": []
  }
 ]
}