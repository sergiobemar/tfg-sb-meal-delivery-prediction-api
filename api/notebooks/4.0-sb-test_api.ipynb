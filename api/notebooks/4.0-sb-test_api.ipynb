{
 "cells": [
  {
   "cell_type": "code",
   "execution_count": 1,
   "metadata": {},
   "outputs": [],
   "source": [
    "import joblib\n",
    "import json\n",
    "import os\n",
    "import pandas as pd\n",
    "\n",
    "from flask import Flask\n",
    "from flask import jsonify\n",
    "from flask import request\n",
    "# from flask_restful import Api, Resource\n",
    "import sys\n",
    "\n",
    "os.chdir('/home/jupyter/tfg-sb-meal-delivery-prediction/')\n",
    "\n",
    "from src.data.data_collect import read_train_data\n",
    "from src.model.xgboost_model import preprocess_data, train_xgboost_model"
   ]
  },
  {
   "cell_type": "code",
   "execution_count": 2,
   "metadata": {},
   "outputs": [],
   "source": [
    "df_train = read_train_data()"
   ]
  },
  {
   "cell_type": "code",
   "execution_count": 3,
   "metadata": {},
   "outputs": [],
   "source": [
    "with open('./src/test/test_api_train.json') as f:\n",
    "    config = json.load(f)"
   ]
  },
  {
   "cell_type": "code",
   "execution_count": 4,
   "metadata": {},
   "outputs": [
    {
     "data": {
      "text/plain": [
       "{'center_id': 55, 'meal_id': 1993}"
      ]
     },
     "execution_count": 4,
     "metadata": {},
     "output_type": "execute_result"
    }
   ],
   "source": [
    "config"
   ]
  },
  {
   "cell_type": "code",
   "execution_count": 5,
   "metadata": {},
   "outputs": [],
   "source": [
    "# Preprocess the dataframe\n",
    "center_id = config['center_id']\n",
    "meal_id = config['meal_id']"
   ]
  },
  {
   "cell_type": "code",
   "execution_count": 6,
   "metadata": {},
   "outputs": [
    {
     "name": "stderr",
     "output_type": "stream",
     "text": [
      "/opt/conda/lib/python3.7/site-packages/pandas/core/generic.py:5159: SettingWithCopyWarning: \n",
      "A value is trying to be set on a copy of a slice from a DataFrame.\n",
      "Try using .loc[row_indexer,col_indexer] = value instead\n",
      "\n",
      "See the caveats in the documentation: https://pandas.pydata.org/pandas-docs/stable/user_guide/indexing.html#returning-a-view-versus-a-copy\n",
      "  self[name] = value\n",
      "/home/jupyter/tfg-sb-meal-delivery-prediction/src/model/xgboost_model.py:19: SettingWithCopyWarning: \n",
      "A value is trying to be set on a copy of a slice from a DataFrame.\n",
      "Try using .loc[row_indexer,col_indexer] = value instead\n",
      "\n",
      "See the caveats in the documentation: https://pandas.pydata.org/pandas-docs/stable/user_guide/indexing.html#returning-a-view-versus-a-copy\n",
      "  df_processed['day'] = df_processed.date.dt.day\n",
      "/home/jupyter/tfg-sb-meal-delivery-prediction/src/model/xgboost_model.py:20: SettingWithCopyWarning: \n",
      "A value is trying to be set on a copy of a slice from a DataFrame.\n",
      "Try using .loc[row_indexer,col_indexer] = value instead\n",
      "\n",
      "See the caveats in the documentation: https://pandas.pydata.org/pandas-docs/stable/user_guide/indexing.html#returning-a-view-versus-a-copy\n",
      "  df_processed['month'] = df_processed.date.dt.month\n",
      "/home/jupyter/tfg-sb-meal-delivery-prediction/src/model/xgboost_model.py:21: SettingWithCopyWarning: \n",
      "A value is trying to be set on a copy of a slice from a DataFrame.\n",
      "Try using .loc[row_indexer,col_indexer] = value instead\n",
      "\n",
      "See the caveats in the documentation: https://pandas.pydata.org/pandas-docs/stable/user_guide/indexing.html#returning-a-view-versus-a-copy\n",
      "  df_processed['year'] = df_processed.date.dt.year\n",
      "/home/jupyter/tfg-sb-meal-delivery-prediction/src/model/xgboost_model.py:22: SettingWithCopyWarning: \n",
      "A value is trying to be set on a copy of a slice from a DataFrame.\n",
      "Try using .loc[row_indexer,col_indexer] = value instead\n",
      "\n",
      "See the caveats in the documentation: https://pandas.pydata.org/pandas-docs/stable/user_guide/indexing.html#returning-a-view-versus-a-copy\n",
      "  df_processed['quarter'] = df_processed.date.dt.quarter\n"
     ]
    }
   ],
   "source": [
    "df_preprocessed = preprocess_data(df_train, center_id, meal_id)"
   ]
  },
  {
   "cell_type": "code",
   "execution_count": 7,
   "metadata": {},
   "outputs": [],
   "source": [
    "features = list(df_preprocessed.drop(columns='num_orders').columns)"
   ]
  },
  {
   "cell_type": "code",
   "execution_count": 8,
   "metadata": {},
   "outputs": [
    {
     "name": "stdout",
     "output_type": "stream",
     "text": [
      "RMSE: 45.64661830504204\n"
     ]
    }
   ],
   "source": [
    "regressor_model, rmse = train_xgboost_model(df_preprocessed)"
   ]
  },
  {
   "cell_type": "code",
   "execution_count": 9,
   "metadata": {},
   "outputs": [],
   "source": [
    "result = {\n",
    "    'features' : features,\n",
    "    'rmse' : rmse\n",
    "}"
   ]
  },
  {
   "cell_type": "code",
   "execution_count": 10,
   "metadata": {},
   "outputs": [
    {
     "data": {
      "text/plain": [
       "{'features': ['week',\n",
       "  'checkout_price',\n",
       "  'base_price',\n",
       "  'emailer_for_promotion',\n",
       "  'homepage_featured',\n",
       "  'city_code',\n",
       "  'region_code',\n",
       "  'op_area',\n",
       "  'day',\n",
       "  'month',\n",
       "  'year',\n",
       "  'quarter'],\n",
       " 'rmse': 45.64661830504204}"
      ]
     },
     "execution_count": 10,
     "metadata": {},
     "output_type": "execute_result"
    }
   ],
   "source": [
    "result"
   ]
  },
  {
   "cell_type": "markdown",
   "metadata": {},
   "source": [
    "# Test predict API"
   ]
  },
  {
   "cell_type": "code",
   "execution_count": 11,
   "metadata": {},
   "outputs": [],
   "source": [
    "from src.data.data_collect import read_test_data"
   ]
  },
  {
   "cell_type": "code",
   "execution_count": 12,
   "metadata": {},
   "outputs": [],
   "source": [
    "df_test = read_test_data()"
   ]
  },
  {
   "cell_type": "code",
   "execution_count": 13,
   "metadata": {},
   "outputs": [
    {
     "name": "stderr",
     "output_type": "stream",
     "text": [
      "/opt/conda/lib/python3.7/site-packages/pandas/core/generic.py:5159: SettingWithCopyWarning: \n",
      "A value is trying to be set on a copy of a slice from a DataFrame.\n",
      "Try using .loc[row_indexer,col_indexer] = value instead\n",
      "\n",
      "See the caveats in the documentation: https://pandas.pydata.org/pandas-docs/stable/user_guide/indexing.html#returning-a-view-versus-a-copy\n",
      "  self[name] = value\n",
      "/home/jupyter/tfg-sb-meal-delivery-prediction/src/model/xgboost_model.py:19: SettingWithCopyWarning: \n",
      "A value is trying to be set on a copy of a slice from a DataFrame.\n",
      "Try using .loc[row_indexer,col_indexer] = value instead\n",
      "\n",
      "See the caveats in the documentation: https://pandas.pydata.org/pandas-docs/stable/user_guide/indexing.html#returning-a-view-versus-a-copy\n",
      "  df_processed['day'] = df_processed.date.dt.day\n",
      "/home/jupyter/tfg-sb-meal-delivery-prediction/src/model/xgboost_model.py:20: SettingWithCopyWarning: \n",
      "A value is trying to be set on a copy of a slice from a DataFrame.\n",
      "Try using .loc[row_indexer,col_indexer] = value instead\n",
      "\n",
      "See the caveats in the documentation: https://pandas.pydata.org/pandas-docs/stable/user_guide/indexing.html#returning-a-view-versus-a-copy\n",
      "  df_processed['month'] = df_processed.date.dt.month\n",
      "/home/jupyter/tfg-sb-meal-delivery-prediction/src/model/xgboost_model.py:21: SettingWithCopyWarning: \n",
      "A value is trying to be set on a copy of a slice from a DataFrame.\n",
      "Try using .loc[row_indexer,col_indexer] = value instead\n",
      "\n",
      "See the caveats in the documentation: https://pandas.pydata.org/pandas-docs/stable/user_guide/indexing.html#returning-a-view-versus-a-copy\n",
      "  df_processed['year'] = df_processed.date.dt.year\n",
      "/home/jupyter/tfg-sb-meal-delivery-prediction/src/model/xgboost_model.py:22: SettingWithCopyWarning: \n",
      "A value is trying to be set on a copy of a slice from a DataFrame.\n",
      "Try using .loc[row_indexer,col_indexer] = value instead\n",
      "\n",
      "See the caveats in the documentation: https://pandas.pydata.org/pandas-docs/stable/user_guide/indexing.html#returning-a-view-versus-a-copy\n",
      "  df_processed['quarter'] = df_processed.date.dt.quarter\n"
     ]
    }
   ],
   "source": [
    "df_test_processed = preprocess_data(df_test, center_id, meal_id)"
   ]
  },
  {
   "cell_type": "code",
   "execution_count": 24,
   "metadata": {},
   "outputs": [],
   "source": [
    "import requests"
   ]
  },
  {
   "cell_type": "code",
   "execution_count": 26,
   "metadata": {},
   "outputs": [],
   "source": [
    "API_ENDPOINT = 'http://localhost:5000/test'"
   ]
  },
  {
   "cell_type": "code",
   "execution_count": 29,
   "metadata": {},
   "outputs": [],
   "source": [
    "r = requests.get(url = API_ENDPOINT)"
   ]
  },
  {
   "cell_type": "code",
   "execution_count": 32,
   "metadata": {},
   "outputs": [
    {
     "data": {
      "text/plain": [
       "{'response': 'test successful!!!!!'}"
      ]
     },
     "execution_count": 32,
     "metadata": {},
     "output_type": "execute_result"
    }
   ],
   "source": [
    "r.json()"
   ]
  },
  {
   "cell_type": "code",
   "execution_count": 163,
   "metadata": {},
   "outputs": [],
   "source": [
    "row = json.loads(df_test_processed.head(5).reset_index().to_json(orient='records'))"
   ]
  },
  {
   "cell_type": "code",
   "execution_count": 164,
   "metadata": {},
   "outputs": [
    {
     "data": {
      "text/plain": [
       "[{'date': 1483228800000,\n",
       "  'week': 146,\n",
       "  'checkout_price': 160.11,\n",
       "  'base_price': 159.11,\n",
       "  'emailer_for_promotion': 0,\n",
       "  'homepage_featured': 0,\n",
       "  'city_code': 647,\n",
       "  'region_code': 56,\n",
       "  'op_area': 2.0,\n",
       "  'day': 1,\n",
       "  'month': 1,\n",
       "  'year': 2017,\n",
       "  'quarter': 1},\n",
       " {'date': 1483833600000,\n",
       "  'week': 147,\n",
       "  'checkout_price': 156.2,\n",
       "  'base_price': 156.2,\n",
       "  'emailer_for_promotion': 0,\n",
       "  'homepage_featured': 0,\n",
       "  'city_code': 647,\n",
       "  'region_code': 56,\n",
       "  'op_area': 2.0,\n",
       "  'day': 8,\n",
       "  'month': 1,\n",
       "  'year': 2017,\n",
       "  'quarter': 1},\n",
       " {'date': 1484438400000,\n",
       "  'week': 148,\n",
       "  'checkout_price': 158.14,\n",
       "  'base_price': 159.14,\n",
       "  'emailer_for_promotion': 0,\n",
       "  'homepage_featured': 0,\n",
       "  'city_code': 647,\n",
       "  'region_code': 56,\n",
       "  'op_area': 2.0,\n",
       "  'day': 15,\n",
       "  'month': 1,\n",
       "  'year': 2017,\n",
       "  'quarter': 1},\n",
       " {'date': 1485043200000,\n",
       "  'week': 149,\n",
       "  'checkout_price': 158.11,\n",
       "  'base_price': 159.11,\n",
       "  'emailer_for_promotion': 0,\n",
       "  'homepage_featured': 0,\n",
       "  'city_code': 647,\n",
       "  'region_code': 56,\n",
       "  'op_area': 2.0,\n",
       "  'day': 22,\n",
       "  'month': 1,\n",
       "  'year': 2017,\n",
       "  'quarter': 1},\n",
       " {'date': 1485648000000,\n",
       "  'week': 150,\n",
       "  'checkout_price': 158.11,\n",
       "  'base_price': 160.11,\n",
       "  'emailer_for_promotion': 0,\n",
       "  'homepage_featured': 0,\n",
       "  'city_code': 647,\n",
       "  'region_code': 56,\n",
       "  'op_area': 2.0,\n",
       "  'day': 29,\n",
       "  'month': 1,\n",
       "  'year': 2017,\n",
       "  'quarter': 1}]"
      ]
     },
     "execution_count": 164,
     "metadata": {},
     "output_type": "execute_result"
    }
   ],
   "source": [
    "row"
   ]
  },
  {
   "cell_type": "code",
   "execution_count": 165,
   "metadata": {},
   "outputs": [],
   "source": [
    "API_ENDPOINT = 'http://localhost:5000/predict'"
   ]
  },
  {
   "cell_type": "code",
   "execution_count": 187,
   "metadata": {},
   "outputs": [],
   "source": [
    "r = requests.post(url = API_ENDPOINT, json=row)"
   ]
  },
  {
   "cell_type": "code",
   "execution_count": 188,
   "metadata": {},
   "outputs": [
    {
     "data": {
      "text/plain": [
       "<Response [200]>"
      ]
     },
     "execution_count": 188,
     "metadata": {},
     "output_type": "execute_result"
    }
   ],
   "source": [
    "r"
   ]
  },
  {
   "cell_type": "code",
   "execution_count": 189,
   "metadata": {},
   "outputs": [
    {
     "data": {
      "text/plain": [
       "{'0': '4.912183',\n",
       " '1': '4.881111',\n",
       " '2': '4.8266926',\n",
       " '3': '4.8266926',\n",
       " '4': '4.799608'}"
      ]
     },
     "execution_count": 189,
     "metadata": {},
     "output_type": "execute_result"
    }
   ],
   "source": [
    "r.json()"
   ]
  },
  {
   "cell_type": "markdown",
   "metadata": {},
   "source": [
    "# Useful links\n",
    "+ [Curl rest API](https://linuxize.com/post/curl-rest-api/)\n",
    "+ [Python-How to send a dataframe to external API (push)](https://stackoverflow.com/questions/63035336/python-how-to-send-a-dataframe-to-external-api-push)\n",
    "+ [Python Requests post() Method](https://www.w3schools.com/python/ref_requests_post.asp)\n",
    "+ [Return two reponses in Flask/JavaScript](https://stackoverflow.com/questions/39460769/return-two-responses-in-flask-javascript)"
   ]
  }
 ],
 "metadata": {
  "environment": {
   "name": "common-cpu.m55",
   "type": "gcloud",
   "uri": "gcr.io/deeplearning-platform-release/base-cpu:m55"
  },
  "kernelspec": {
   "display_name": "Python 3",
   "language": "python",
   "name": "python3"
  },
  "language_info": {
   "codemirror_mode": {
    "name": "ipython",
    "version": 3
   },
   "file_extension": ".py",
   "mimetype": "text/x-python",
   "name": "python",
   "nbconvert_exporter": "python",
   "pygments_lexer": "ipython3",
   "version": "3.7.8"
  }
 },
 "nbformat": 4,
 "nbformat_minor": 4
}
